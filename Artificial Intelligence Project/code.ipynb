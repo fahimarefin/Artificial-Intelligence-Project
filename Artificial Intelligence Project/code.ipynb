{
  "nbformat": 4,
  "nbformat_minor": 0,
  "metadata": {
    "colab": {
      "provenance": []
    },
    "kernelspec": {
      "name": "python3",
      "display_name": "Python 3"
    },
    "language_info": {
      "name": "python"
    }
  },
  "cells": [
    {
      "cell_type": "code",
      "execution_count": 1,
      "metadata": {
        "id": "IVryQ359cZ-U"
      },
      "outputs": [],
      "source": [
        "import pandas as pd\n",
        "import numpy as np\n",
        "import os\n",
        "import matplotlib.pyplot as plt\n",
        "%matplotlib inline\n",
        "import seaborn as sns\n",
        "from sklearn.model_selection import train_test_split\n",
        "from sklearn.linear_model import LogisticRegression\n",
        "from sklearn.metrics import f1_score\n",
        "from sklearn.metrics import confusion_matrix\n",
        "from sklearn.tree import DecisionTreeClassifier \n",
        "from sklearn.naive_bayes import GaussianNB\n",
        "from sklearn import metrics\n",
        "from sklearn.naive_bayes import MultinomialNB\n",
        "from sklearn.naive_bayes import BernoulliNB \n"
      ]
    },
    {
      "cell_type": "code",
      "source": [
        "df=pd.read_csv('Covid Data.csv')"
      ],
      "metadata": {
        "id": "2-DJQDf5qW9B"
      },
      "execution_count": 2,
      "outputs": []
    },
    {
      "cell_type": "code",
      "source": [
        "df.head()"
      ],
      "metadata": {
        "colab": {
          "base_uri": "https://localhost:8080/",
          "height": 299
        },
        "id": "DK3WEB7qtlG7",
        "outputId": "393dd264-6dec-4c38-df5d-46ee166bf189"
      },
      "execution_count": 3,
      "outputs": [
        {
          "output_type": "execute_result",
          "data": {
            "text/plain": [
              "   USMER  MEDICAL_UNIT  SEX  PATIENT_TYPE   DATE_DIED  INTUBED  PNEUMONIA  \\\n",
              "0      2             1    1             1  03/05/2020       97          1   \n",
              "1      2             1    2             1  03/06/2020       97          1   \n",
              "2      2             1    2             2  09/06/2020        1          2   \n",
              "3      2             1    1             1  12/06/2020       97          2   \n",
              "4      2             1    2             1  21/06/2020       97          2   \n",
              "\n",
              "   AGE  PREGNANT  DIABETES  ...  ASTHMA  INMSUPR  HIPERTENSION  OTHER_DISEASE  \\\n",
              "0   65         2         2  ...       2        2             1              2   \n",
              "1   72        97         2  ...       2        2             1              2   \n",
              "2   55        97         1  ...       2        2             2              2   \n",
              "3   53         2         2  ...       2        2             2              2   \n",
              "4   68        97         1  ...       2        2             1              2   \n",
              "\n",
              "   CARDIOVASCULAR  OBESITY  RENAL_CHRONIC  TOBACCO  CLASIFFICATION_FINAL  ICU  \n",
              "0               2        2              2        2                     3   97  \n",
              "1               2        1              1        2                     5   97  \n",
              "2               2        2              2        2                     3    2  \n",
              "3               2        2              2        2                     7   97  \n",
              "4               2        2              2        2                     3   97  \n",
              "\n",
              "[5 rows x 21 columns]"
            ],
            "text/html": [
              "\n",
              "  <div id=\"df-6ff16705-b227-4f8f-8248-b3e07e85a8ba\">\n",
              "    <div class=\"colab-df-container\">\n",
              "      <div>\n",
              "<style scoped>\n",
              "    .dataframe tbody tr th:only-of-type {\n",
              "        vertical-align: middle;\n",
              "    }\n",
              "\n",
              "    .dataframe tbody tr th {\n",
              "        vertical-align: top;\n",
              "    }\n",
              "\n",
              "    .dataframe thead th {\n",
              "        text-align: right;\n",
              "    }\n",
              "</style>\n",
              "<table border=\"1\" class=\"dataframe\">\n",
              "  <thead>\n",
              "    <tr style=\"text-align: right;\">\n",
              "      <th></th>\n",
              "      <th>USMER</th>\n",
              "      <th>MEDICAL_UNIT</th>\n",
              "      <th>SEX</th>\n",
              "      <th>PATIENT_TYPE</th>\n",
              "      <th>DATE_DIED</th>\n",
              "      <th>INTUBED</th>\n",
              "      <th>PNEUMONIA</th>\n",
              "      <th>AGE</th>\n",
              "      <th>PREGNANT</th>\n",
              "      <th>DIABETES</th>\n",
              "      <th>...</th>\n",
              "      <th>ASTHMA</th>\n",
              "      <th>INMSUPR</th>\n",
              "      <th>HIPERTENSION</th>\n",
              "      <th>OTHER_DISEASE</th>\n",
              "      <th>CARDIOVASCULAR</th>\n",
              "      <th>OBESITY</th>\n",
              "      <th>RENAL_CHRONIC</th>\n",
              "      <th>TOBACCO</th>\n",
              "      <th>CLASIFFICATION_FINAL</th>\n",
              "      <th>ICU</th>\n",
              "    </tr>\n",
              "  </thead>\n",
              "  <tbody>\n",
              "    <tr>\n",
              "      <th>0</th>\n",
              "      <td>2</td>\n",
              "      <td>1</td>\n",
              "      <td>1</td>\n",
              "      <td>1</td>\n",
              "      <td>03/05/2020</td>\n",
              "      <td>97</td>\n",
              "      <td>1</td>\n",
              "      <td>65</td>\n",
              "      <td>2</td>\n",
              "      <td>2</td>\n",
              "      <td>...</td>\n",
              "      <td>2</td>\n",
              "      <td>2</td>\n",
              "      <td>1</td>\n",
              "      <td>2</td>\n",
              "      <td>2</td>\n",
              "      <td>2</td>\n",
              "      <td>2</td>\n",
              "      <td>2</td>\n",
              "      <td>3</td>\n",
              "      <td>97</td>\n",
              "    </tr>\n",
              "    <tr>\n",
              "      <th>1</th>\n",
              "      <td>2</td>\n",
              "      <td>1</td>\n",
              "      <td>2</td>\n",
              "      <td>1</td>\n",
              "      <td>03/06/2020</td>\n",
              "      <td>97</td>\n",
              "      <td>1</td>\n",
              "      <td>72</td>\n",
              "      <td>97</td>\n",
              "      <td>2</td>\n",
              "      <td>...</td>\n",
              "      <td>2</td>\n",
              "      <td>2</td>\n",
              "      <td>1</td>\n",
              "      <td>2</td>\n",
              "      <td>2</td>\n",
              "      <td>1</td>\n",
              "      <td>1</td>\n",
              "      <td>2</td>\n",
              "      <td>5</td>\n",
              "      <td>97</td>\n",
              "    </tr>\n",
              "    <tr>\n",
              "      <th>2</th>\n",
              "      <td>2</td>\n",
              "      <td>1</td>\n",
              "      <td>2</td>\n",
              "      <td>2</td>\n",
              "      <td>09/06/2020</td>\n",
              "      <td>1</td>\n",
              "      <td>2</td>\n",
              "      <td>55</td>\n",
              "      <td>97</td>\n",
              "      <td>1</td>\n",
              "      <td>...</td>\n",
              "      <td>2</td>\n",
              "      <td>2</td>\n",
              "      <td>2</td>\n",
              "      <td>2</td>\n",
              "      <td>2</td>\n",
              "      <td>2</td>\n",
              "      <td>2</td>\n",
              "      <td>2</td>\n",
              "      <td>3</td>\n",
              "      <td>2</td>\n",
              "    </tr>\n",
              "    <tr>\n",
              "      <th>3</th>\n",
              "      <td>2</td>\n",
              "      <td>1</td>\n",
              "      <td>1</td>\n",
              "      <td>1</td>\n",
              "      <td>12/06/2020</td>\n",
              "      <td>97</td>\n",
              "      <td>2</td>\n",
              "      <td>53</td>\n",
              "      <td>2</td>\n",
              "      <td>2</td>\n",
              "      <td>...</td>\n",
              "      <td>2</td>\n",
              "      <td>2</td>\n",
              "      <td>2</td>\n",
              "      <td>2</td>\n",
              "      <td>2</td>\n",
              "      <td>2</td>\n",
              "      <td>2</td>\n",
              "      <td>2</td>\n",
              "      <td>7</td>\n",
              "      <td>97</td>\n",
              "    </tr>\n",
              "    <tr>\n",
              "      <th>4</th>\n",
              "      <td>2</td>\n",
              "      <td>1</td>\n",
              "      <td>2</td>\n",
              "      <td>1</td>\n",
              "      <td>21/06/2020</td>\n",
              "      <td>97</td>\n",
              "      <td>2</td>\n",
              "      <td>68</td>\n",
              "      <td>97</td>\n",
              "      <td>1</td>\n",
              "      <td>...</td>\n",
              "      <td>2</td>\n",
              "      <td>2</td>\n",
              "      <td>1</td>\n",
              "      <td>2</td>\n",
              "      <td>2</td>\n",
              "      <td>2</td>\n",
              "      <td>2</td>\n",
              "      <td>2</td>\n",
              "      <td>3</td>\n",
              "      <td>97</td>\n",
              "    </tr>\n",
              "  </tbody>\n",
              "</table>\n",
              "<p>5 rows × 21 columns</p>\n",
              "</div>\n",
              "      <button class=\"colab-df-convert\" onclick=\"convertToInteractive('df-6ff16705-b227-4f8f-8248-b3e07e85a8ba')\"\n",
              "              title=\"Convert this dataframe to an interactive table.\"\n",
              "              style=\"display:none;\">\n",
              "        \n",
              "  <svg xmlns=\"http://www.w3.org/2000/svg\" height=\"24px\"viewBox=\"0 0 24 24\"\n",
              "       width=\"24px\">\n",
              "    <path d=\"M0 0h24v24H0V0z\" fill=\"none\"/>\n",
              "    <path d=\"M18.56 5.44l.94 2.06.94-2.06 2.06-.94-2.06-.94-.94-2.06-.94 2.06-2.06.94zm-11 1L8.5 8.5l.94-2.06 2.06-.94-2.06-.94L8.5 2.5l-.94 2.06-2.06.94zm10 10l.94 2.06.94-2.06 2.06-.94-2.06-.94-.94-2.06-.94 2.06-2.06.94z\"/><path d=\"M17.41 7.96l-1.37-1.37c-.4-.4-.92-.59-1.43-.59-.52 0-1.04.2-1.43.59L10.3 9.45l-7.72 7.72c-.78.78-.78 2.05 0 2.83L4 21.41c.39.39.9.59 1.41.59.51 0 1.02-.2 1.41-.59l7.78-7.78 2.81-2.81c.8-.78.8-2.07 0-2.86zM5.41 20L4 18.59l7.72-7.72 1.47 1.35L5.41 20z\"/>\n",
              "  </svg>\n",
              "      </button>\n",
              "      \n",
              "  <style>\n",
              "    .colab-df-container {\n",
              "      display:flex;\n",
              "      flex-wrap:wrap;\n",
              "      gap: 12px;\n",
              "    }\n",
              "\n",
              "    .colab-df-convert {\n",
              "      background-color: #E8F0FE;\n",
              "      border: none;\n",
              "      border-radius: 50%;\n",
              "      cursor: pointer;\n",
              "      display: none;\n",
              "      fill: #1967D2;\n",
              "      height: 32px;\n",
              "      padding: 0 0 0 0;\n",
              "      width: 32px;\n",
              "    }\n",
              "\n",
              "    .colab-df-convert:hover {\n",
              "      background-color: #E2EBFA;\n",
              "      box-shadow: 0px 1px 2px rgba(60, 64, 67, 0.3), 0px 1px 3px 1px rgba(60, 64, 67, 0.15);\n",
              "      fill: #174EA6;\n",
              "    }\n",
              "\n",
              "    [theme=dark] .colab-df-convert {\n",
              "      background-color: #3B4455;\n",
              "      fill: #D2E3FC;\n",
              "    }\n",
              "\n",
              "    [theme=dark] .colab-df-convert:hover {\n",
              "      background-color: #434B5C;\n",
              "      box-shadow: 0px 1px 3px 1px rgba(0, 0, 0, 0.15);\n",
              "      filter: drop-shadow(0px 1px 2px rgba(0, 0, 0, 0.3));\n",
              "      fill: #FFFFFF;\n",
              "    }\n",
              "  </style>\n",
              "\n",
              "      <script>\n",
              "        const buttonEl =\n",
              "          document.querySelector('#df-6ff16705-b227-4f8f-8248-b3e07e85a8ba button.colab-df-convert');\n",
              "        buttonEl.style.display =\n",
              "          google.colab.kernel.accessAllowed ? 'block' : 'none';\n",
              "\n",
              "        async function convertToInteractive(key) {\n",
              "          const element = document.querySelector('#df-6ff16705-b227-4f8f-8248-b3e07e85a8ba');\n",
              "          const dataTable =\n",
              "            await google.colab.kernel.invokeFunction('convertToInteractive',\n",
              "                                                     [key], {});\n",
              "          if (!dataTable) return;\n",
              "\n",
              "          const docLinkHtml = 'Like what you see? Visit the ' +\n",
              "            '<a target=\"_blank\" href=https://colab.research.google.com/notebooks/data_table.ipynb>data table notebook</a>'\n",
              "            + ' to learn more about interactive tables.';\n",
              "          element.innerHTML = '';\n",
              "          dataTable['output_type'] = 'display_data';\n",
              "          await google.colab.output.renderOutput(dataTable, element);\n",
              "          const docLink = document.createElement('div');\n",
              "          docLink.innerHTML = docLinkHtml;\n",
              "          element.appendChild(docLink);\n",
              "        }\n",
              "      </script>\n",
              "    </div>\n",
              "  </div>\n",
              "  "
            ]
          },
          "metadata": {},
          "execution_count": 3
        }
      ]
    },
    {
      "cell_type": "code",
      "source": [
        "for i in df.columns.tolist():\n",
        "  print(i,', ')"
      ],
      "metadata": {
        "colab": {
          "base_uri": "https://localhost:8080/"
        },
        "id": "w_0m7im5uHpi",
        "outputId": "c9f276c2-08c1-453a-87c1-ff4fd683be52"
      },
      "execution_count": 4,
      "outputs": [
        {
          "output_type": "stream",
          "name": "stdout",
          "text": [
            "USMER , \n",
            "MEDICAL_UNIT , \n",
            "SEX , \n",
            "PATIENT_TYPE , \n",
            "DATE_DIED , \n",
            "INTUBED , \n",
            "PNEUMONIA , \n",
            "AGE , \n",
            "PREGNANT , \n",
            "DIABETES , \n",
            "COPD , \n",
            "ASTHMA , \n",
            "INMSUPR , \n",
            "HIPERTENSION , \n",
            "OTHER_DISEASE , \n",
            "CARDIOVASCULAR , \n",
            "OBESITY , \n",
            "RENAL_CHRONIC , \n",
            "TOBACCO , \n",
            "CLASIFFICATION_FINAL , \n",
            "ICU , \n"
          ]
        }
      ]
    },
    {
      "cell_type": "code",
      "source": [
        "df.isnull().sum()"
      ],
      "metadata": {
        "colab": {
          "base_uri": "https://localhost:8080/"
        },
        "id": "ctW_IUultuKb",
        "outputId": "daafe998-2050-4147-e592-709d413ae20e"
      },
      "execution_count": 5,
      "outputs": [
        {
          "output_type": "execute_result",
          "data": {
            "text/plain": [
              "USMER                   0\n",
              "MEDICAL_UNIT            0\n",
              "SEX                     0\n",
              "PATIENT_TYPE            0\n",
              "DATE_DIED               0\n",
              "INTUBED                 0\n",
              "PNEUMONIA               0\n",
              "AGE                     0\n",
              "PREGNANT                0\n",
              "DIABETES                0\n",
              "COPD                    0\n",
              "ASTHMA                  0\n",
              "INMSUPR                 0\n",
              "HIPERTENSION            0\n",
              "OTHER_DISEASE           0\n",
              "CARDIOVASCULAR          0\n",
              "OBESITY                 0\n",
              "RENAL_CHRONIC           0\n",
              "TOBACCO                 0\n",
              "CLASIFFICATION_FINAL    0\n",
              "ICU                     0\n",
              "dtype: int64"
            ]
          },
          "metadata": {},
          "execution_count": 5
        }
      ]
    },
    {
      "cell_type": "code",
      "source": [
        "df.shape"
      ],
      "metadata": {
        "colab": {
          "base_uri": "https://localhost:8080/"
        },
        "id": "9VN0nPWJupmq",
        "outputId": "4aa2de1a-5449-413c-8146-beb66fde7b15"
      },
      "execution_count": 6,
      "outputs": [
        {
          "output_type": "execute_result",
          "data": {
            "text/plain": [
              "(1048575, 21)"
            ]
          },
          "metadata": {},
          "execution_count": 6
        }
      ]
    },
    {
      "cell_type": "markdown",
      "source": [
        "*Number* of Unique values by column"
      ],
      "metadata": {
        "id": "08fTzo_su6hD"
      }
    },
    {
      "cell_type": "code",
      "source": [
        "for i in df.columns:\n",
        "  print('{:<20} => {:>10}'.format(i,len(df[i].unique())))"
      ],
      "metadata": {
        "colab": {
          "base_uri": "https://localhost:8080/"
        },
        "id": "Xv5LSd4ZvACK",
        "outputId": "81d6e6d7-40a8-4463-bf94-5c6a9ffbf19c"
      },
      "execution_count": 7,
      "outputs": [
        {
          "output_type": "stream",
          "name": "stdout",
          "text": [
            "USMER                =>          2\n",
            "MEDICAL_UNIT         =>         13\n",
            "SEX                  =>          2\n",
            "PATIENT_TYPE         =>          2\n",
            "DATE_DIED            =>        401\n",
            "INTUBED              =>          4\n",
            "PNEUMONIA            =>          3\n",
            "AGE                  =>        121\n",
            "PREGNANT             =>          4\n",
            "DIABETES             =>          3\n",
            "COPD                 =>          3\n",
            "ASTHMA               =>          3\n",
            "INMSUPR              =>          3\n",
            "HIPERTENSION         =>          3\n",
            "OTHER_DISEASE        =>          3\n",
            "CARDIOVASCULAR       =>          3\n",
            "OBESITY              =>          3\n",
            "RENAL_CHRONIC        =>          3\n",
            "TOBACCO              =>          3\n",
            "CLASIFFICATION_FINAL =>          7\n",
            "ICU                  =>          4\n"
          ]
        }
      ]
    },
    {
      "cell_type": "markdown",
      "source": [
        "percentage of missing value"
      ],
      "metadata": {
        "id": "2UnEJcESv490"
      }
    },
    {
      "cell_type": "code",
      "source": [
        "print('Percentage of missing values')\n",
        "for i in df.columns :\n",
        "    print('{:<20} => {:>10.2f}%'.format(i, len(df[(df[i]==98) | (df[i]==99) | (df[i]==97)])/len(df)*100))"
      ],
      "metadata": {
        "colab": {
          "base_uri": "https://localhost:8080/"
        },
        "id": "AUfl9LHPv9uD",
        "outputId": "a4451ee0-d93a-4d73-cf16-55cb18e146b0"
      },
      "execution_count": 8,
      "outputs": [
        {
          "output_type": "stream",
          "name": "stdout",
          "text": [
            "Percentage of missing values\n",
            "USMER                =>       0.00%\n",
            "MEDICAL_UNIT         =>       0.00%\n",
            "SEX                  =>       0.00%\n",
            "PATIENT_TYPE         =>       0.00%\n",
            "DATE_DIED            =>       0.00%\n",
            "INTUBED              =>      81.62%\n",
            "PNEUMONIA            =>       1.53%\n",
            "AGE                  =>       0.03%\n",
            "PREGNANT             =>      50.28%\n",
            "DIABETES             =>       0.32%\n",
            "COPD                 =>       0.29%\n",
            "ASTHMA               =>       0.28%\n",
            "INMSUPR              =>       0.32%\n",
            "HIPERTENSION         =>       0.30%\n",
            "OTHER_DISEASE        =>       0.48%\n",
            "CARDIOVASCULAR       =>       0.29%\n",
            "OBESITY              =>       0.29%\n",
            "RENAL_CHRONIC        =>       0.29%\n",
            "TOBACCO              =>       0.31%\n",
            "CLASIFFICATION_FINAL =>       0.00%\n",
            "ICU                  =>      81.64%\n"
          ]
        }
      ]
    },
    {
      "cell_type": "code",
      "source": [
        "df['INTUBED'].value_counts()"
      ],
      "metadata": {
        "colab": {
          "base_uri": "https://localhost:8080/"
        },
        "id": "zF315krTzDat",
        "outputId": "c1f1d614-defe-4e46-ab12-6c84feba45e1"
      },
      "execution_count": 9,
      "outputs": [
        {
          "output_type": "execute_result",
          "data": {
            "text/plain": [
              "97    848544\n",
              "2     159050\n",
              "1      33656\n",
              "99      7325\n",
              "Name: INTUBED, dtype: int64"
            ]
          },
          "metadata": {},
          "execution_count": 9
        }
      ]
    },
    {
      "cell_type": "code",
      "source": [
        "df['ICU'].value_counts()"
      ],
      "metadata": {
        "colab": {
          "base_uri": "https://localhost:8080/"
        },
        "id": "EN80dcNn0zql",
        "outputId": "d46ccd12-7711-469f-b497-88e81b6be04e"
      },
      "execution_count": 10,
      "outputs": [
        {
          "output_type": "execute_result",
          "data": {
            "text/plain": [
              "97    848544\n",
              "2     175685\n",
              "1      16858\n",
              "99      7488\n",
              "Name: ICU, dtype: int64"
            ]
          },
          "metadata": {},
          "execution_count": 10
        }
      ]
    },
    {
      "cell_type": "code",
      "source": [
        "df['PREGNANT'].value_counts()"
      ],
      "metadata": {
        "colab": {
          "base_uri": "https://localhost:8080/"
        },
        "id": "6mm7ukJP0NSN",
        "outputId": "528cedef-8408-48e2-ef7f-8bf8c38661fd"
      },
      "execution_count": 11,
      "outputs": [
        {
          "output_type": "execute_result",
          "data": {
            "text/plain": [
              "97    523511\n",
              "2     513179\n",
              "1       8131\n",
              "98      3754\n",
              "Name: PREGNANT, dtype: int64"
            ]
          },
          "metadata": {},
          "execution_count": 11
        }
      ]
    },
    {
      "cell_type": "markdown",
      "source": [
        "INTUBED, PREGNANT, ICU : have many missing values, indicated by 97,99\n",
        "\n",
        "other columns have smaller missing values, indicated by 98"
      ],
      "metadata": {
        "id": "IU5poSbM0_pr"
      }
    },
    {
      "cell_type": "code",
      "source": [
        "df['CLASIFFICATION_FINAL'].value_counts()"
      ],
      "metadata": {
        "colab": {
          "base_uri": "https://localhost:8080/"
        },
        "id": "3-ZUc7AE1HOE",
        "outputId": "a8e51998-5a52-400b-9c01-8b33465ed745"
      },
      "execution_count": 12,
      "outputs": [
        {
          "output_type": "execute_result",
          "data": {
            "text/plain": [
              "7    499250\n",
              "3    381527\n",
              "6    128133\n",
              "5     26091\n",
              "1      8601\n",
              "4      3122\n",
              "2      1851\n",
              "Name: CLASIFFICATION_FINAL, dtype: int64"
            ]
          },
          "metadata": {},
          "execution_count": 12
        }
      ]
    },
    {
      "cell_type": "markdown",
      "source": [
        "97-99:Indicates missings,so classification has no missing value\n",
        "\n",
        "1-3:the patient was diagnosed with covid in different degrees\n",
        "\n",
        "4-7 : the patient is not a carrier of covid or that the test is inconclusive"
      ],
      "metadata": {
        "id": "0hdG2tD21fk-"
      }
    },
    {
      "cell_type": "markdown",
      "source": [
        "Data Preprocessing"
      ],
      "metadata": {
        "id": "dEAcOn0AsqLV"
      }
    },
    {
      "cell_type": "markdown",
      "source": [
        "Get rid of missing values\n",
        "\n",
        "except for INTUBED, PREGNANT, ICU columns since they have too many missing values"
      ],
      "metadata": {
        "id": "qLbXRk91se0Y"
      }
    },
    {
      "cell_type": "code",
      "source": [
        "df.columns"
      ],
      "metadata": {
        "id": "nf_QjwNok3lO",
        "colab": {
          "base_uri": "https://localhost:8080/"
        },
        "outputId": "32aa1325-968f-4ab6-9b82-8ea45435c5c3"
      },
      "execution_count": 13,
      "outputs": [
        {
          "output_type": "execute_result",
          "data": {
            "text/plain": [
              "Index(['USMER', 'MEDICAL_UNIT', 'SEX', 'PATIENT_TYPE', 'DATE_DIED', 'INTUBED',\n",
              "       'PNEUMONIA', 'AGE', 'PREGNANT', 'DIABETES', 'COPD', 'ASTHMA', 'INMSUPR',\n",
              "       'HIPERTENSION', 'OTHER_DISEASE', 'CARDIOVASCULAR', 'OBESITY',\n",
              "       'RENAL_CHRONIC', 'TOBACCO', 'CLASIFFICATION_FINAL', 'ICU'],\n",
              "      dtype='object')"
            ]
          },
          "metadata": {},
          "execution_count": 13
        }
      ]
    },
    {
      "cell_type": "code",
      "source": [
        "cols = ['PNEUMONIA','DIABETES', 'COPD', 'ASTHMA', 'INMSUPR','HIPERTENSION', \n",
        "        'OTHER_DISEASE', 'CARDIOVASCULAR', 'OBESITY','RENAL_CHRONIC', 'TOBACCO']\n",
        "for i in cols :\n",
        "    df = df [(df[i] == 1)|(df[i] == 2)]"
      ],
      "metadata": {
        "id": "De5s8L37tt33"
      },
      "execution_count": 14,
      "outputs": []
    },
    {
      "cell_type": "code",
      "source": [
        "df ['DEATH'] = [2 if row=='9999-99-99' else 1 for row in df['DATE_DIED']]"
      ],
      "metadata": {
        "id": "dakRD4DluZwX"
      },
      "execution_count": 15,
      "outputs": []
    },
    {
      "cell_type": "code",
      "source": [
        "df['DEATH'].value_counts()"
      ],
      "metadata": {
        "colab": {
          "base_uri": "https://localhost:8080/"
        },
        "id": "migInNeVumcG",
        "outputId": "f421d3dd-e1b0-4875-c603-02ac677303f8"
      },
      "execution_count": 16,
      "outputs": [
        {
          "output_type": "execute_result",
          "data": {
            "text/plain": [
              "2    950438\n",
              "1     74714\n",
              "Name: DEATH, dtype: int64"
            ]
          },
          "metadata": {},
          "execution_count": 16
        }
      ]
    },
    {
      "cell_type": "code",
      "source": [
        "df.drop(columns=['INTUBED','ICU','DATE_DIED'],inplace=True)"
      ],
      "metadata": {
        "id": "kCAimWUSuzbW"
      },
      "execution_count": 17,
      "outputs": []
    },
    {
      "cell_type": "code",
      "source": [
        "print('MALE',df.query('SEX==2')['PREGNANT'].value_counts(), sep='\\n')\n",
        "print('FEMALE',df.query('SEX==1')['PREGNANT'].value_counts(), sep='\\n')"
      ],
      "metadata": {
        "colab": {
          "base_uri": "https://localhost:8080/"
        },
        "id": "QV5zpqueu4M3",
        "outputId": "69a9a91b-4c10-40a8-bca5-b7e0854801a5"
      },
      "execution_count": 18,
      "outputs": [
        {
          "output_type": "stream",
          "name": "stdout",
          "text": [
            "MALE\n",
            "97    511936\n",
            "Name: PREGNANT, dtype: int64\n",
            "FEMALE\n",
            "2     502200\n",
            "1       7841\n",
            "98      3175\n",
            "Name: PREGNANT, dtype: int64\n"
          ]
        }
      ]
    },
    {
      "cell_type": "code",
      "source": [
        "df['PREGNANT'] = df['PREGNANT'].replace(97,2)\n",
        "df['PREGNANT'] = df['PREGNANT'].replace(98,2)"
      ],
      "metadata": {
        "id": "5FPfH6f8vRZX"
      },
      "execution_count": 19,
      "outputs": []
    },
    {
      "cell_type": "code",
      "source": [
        "df.shape"
      ],
      "metadata": {
        "colab": {
          "base_uri": "https://localhost:8080/"
        },
        "id": "zAtfO9cxvaZO",
        "outputId": "0c7c358a-01f2-4da8-c753-1ce4fc241902"
      },
      "execution_count": 20,
      "outputs": [
        {
          "output_type": "execute_result",
          "data": {
            "text/plain": [
              "(1025152, 19)"
            ]
          },
          "metadata": {},
          "execution_count": 20
        }
      ]
    },
    {
      "cell_type": "code",
      "source": [
        "df.head()"
      ],
      "metadata": {
        "colab": {
          "base_uri": "https://localhost:8080/",
          "height": 270
        },
        "id": "onrPrunqsZ1m",
        "outputId": "13c0348e-9056-456c-8caa-962265f46c94"
      },
      "execution_count": 21,
      "outputs": [
        {
          "output_type": "execute_result",
          "data": {
            "text/plain": [
              "   USMER  MEDICAL_UNIT  SEX  PATIENT_TYPE  PNEUMONIA  AGE  PREGNANT  DIABETES  \\\n",
              "0      2             1    1             1          1   65         2         2   \n",
              "1      2             1    2             1          1   72         2         2   \n",
              "2      2             1    2             2          2   55         2         1   \n",
              "3      2             1    1             1          2   53         2         2   \n",
              "4      2             1    2             1          2   68         2         1   \n",
              "\n",
              "   COPD  ASTHMA  INMSUPR  HIPERTENSION  OTHER_DISEASE  CARDIOVASCULAR  \\\n",
              "0     2       2        2             1              2               2   \n",
              "1     2       2        2             1              2               2   \n",
              "2     2       2        2             2              2               2   \n",
              "3     2       2        2             2              2               2   \n",
              "4     2       2        2             1              2               2   \n",
              "\n",
              "   OBESITY  RENAL_CHRONIC  TOBACCO  CLASIFFICATION_FINAL  DEATH  \n",
              "0        2              2        2                     3      1  \n",
              "1        1              1        2                     5      1  \n",
              "2        2              2        2                     3      1  \n",
              "3        2              2        2                     7      1  \n",
              "4        2              2        2                     3      1  "
            ],
            "text/html": [
              "\n",
              "  <div id=\"df-1cc6bcb4-60f0-45c5-97ce-26cc9a68cc08\">\n",
              "    <div class=\"colab-df-container\">\n",
              "      <div>\n",
              "<style scoped>\n",
              "    .dataframe tbody tr th:only-of-type {\n",
              "        vertical-align: middle;\n",
              "    }\n",
              "\n",
              "    .dataframe tbody tr th {\n",
              "        vertical-align: top;\n",
              "    }\n",
              "\n",
              "    .dataframe thead th {\n",
              "        text-align: right;\n",
              "    }\n",
              "</style>\n",
              "<table border=\"1\" class=\"dataframe\">\n",
              "  <thead>\n",
              "    <tr style=\"text-align: right;\">\n",
              "      <th></th>\n",
              "      <th>USMER</th>\n",
              "      <th>MEDICAL_UNIT</th>\n",
              "      <th>SEX</th>\n",
              "      <th>PATIENT_TYPE</th>\n",
              "      <th>PNEUMONIA</th>\n",
              "      <th>AGE</th>\n",
              "      <th>PREGNANT</th>\n",
              "      <th>DIABETES</th>\n",
              "      <th>COPD</th>\n",
              "      <th>ASTHMA</th>\n",
              "      <th>INMSUPR</th>\n",
              "      <th>HIPERTENSION</th>\n",
              "      <th>OTHER_DISEASE</th>\n",
              "      <th>CARDIOVASCULAR</th>\n",
              "      <th>OBESITY</th>\n",
              "      <th>RENAL_CHRONIC</th>\n",
              "      <th>TOBACCO</th>\n",
              "      <th>CLASIFFICATION_FINAL</th>\n",
              "      <th>DEATH</th>\n",
              "    </tr>\n",
              "  </thead>\n",
              "  <tbody>\n",
              "    <tr>\n",
              "      <th>0</th>\n",
              "      <td>2</td>\n",
              "      <td>1</td>\n",
              "      <td>1</td>\n",
              "      <td>1</td>\n",
              "      <td>1</td>\n",
              "      <td>65</td>\n",
              "      <td>2</td>\n",
              "      <td>2</td>\n",
              "      <td>2</td>\n",
              "      <td>2</td>\n",
              "      <td>2</td>\n",
              "      <td>1</td>\n",
              "      <td>2</td>\n",
              "      <td>2</td>\n",
              "      <td>2</td>\n",
              "      <td>2</td>\n",
              "      <td>2</td>\n",
              "      <td>3</td>\n",
              "      <td>1</td>\n",
              "    </tr>\n",
              "    <tr>\n",
              "      <th>1</th>\n",
              "      <td>2</td>\n",
              "      <td>1</td>\n",
              "      <td>2</td>\n",
              "      <td>1</td>\n",
              "      <td>1</td>\n",
              "      <td>72</td>\n",
              "      <td>2</td>\n",
              "      <td>2</td>\n",
              "      <td>2</td>\n",
              "      <td>2</td>\n",
              "      <td>2</td>\n",
              "      <td>1</td>\n",
              "      <td>2</td>\n",
              "      <td>2</td>\n",
              "      <td>1</td>\n",
              "      <td>1</td>\n",
              "      <td>2</td>\n",
              "      <td>5</td>\n",
              "      <td>1</td>\n",
              "    </tr>\n",
              "    <tr>\n",
              "      <th>2</th>\n",
              "      <td>2</td>\n",
              "      <td>1</td>\n",
              "      <td>2</td>\n",
              "      <td>2</td>\n",
              "      <td>2</td>\n",
              "      <td>55</td>\n",
              "      <td>2</td>\n",
              "      <td>1</td>\n",
              "      <td>2</td>\n",
              "      <td>2</td>\n",
              "      <td>2</td>\n",
              "      <td>2</td>\n",
              "      <td>2</td>\n",
              "      <td>2</td>\n",
              "      <td>2</td>\n",
              "      <td>2</td>\n",
              "      <td>2</td>\n",
              "      <td>3</td>\n",
              "      <td>1</td>\n",
              "    </tr>\n",
              "    <tr>\n",
              "      <th>3</th>\n",
              "      <td>2</td>\n",
              "      <td>1</td>\n",
              "      <td>1</td>\n",
              "      <td>1</td>\n",
              "      <td>2</td>\n",
              "      <td>53</td>\n",
              "      <td>2</td>\n",
              "      <td>2</td>\n",
              "      <td>2</td>\n",
              "      <td>2</td>\n",
              "      <td>2</td>\n",
              "      <td>2</td>\n",
              "      <td>2</td>\n",
              "      <td>2</td>\n",
              "      <td>2</td>\n",
              "      <td>2</td>\n",
              "      <td>2</td>\n",
              "      <td>7</td>\n",
              "      <td>1</td>\n",
              "    </tr>\n",
              "    <tr>\n",
              "      <th>4</th>\n",
              "      <td>2</td>\n",
              "      <td>1</td>\n",
              "      <td>2</td>\n",
              "      <td>1</td>\n",
              "      <td>2</td>\n",
              "      <td>68</td>\n",
              "      <td>2</td>\n",
              "      <td>1</td>\n",
              "      <td>2</td>\n",
              "      <td>2</td>\n",
              "      <td>2</td>\n",
              "      <td>1</td>\n",
              "      <td>2</td>\n",
              "      <td>2</td>\n",
              "      <td>2</td>\n",
              "      <td>2</td>\n",
              "      <td>2</td>\n",
              "      <td>3</td>\n",
              "      <td>1</td>\n",
              "    </tr>\n",
              "  </tbody>\n",
              "</table>\n",
              "</div>\n",
              "      <button class=\"colab-df-convert\" onclick=\"convertToInteractive('df-1cc6bcb4-60f0-45c5-97ce-26cc9a68cc08')\"\n",
              "              title=\"Convert this dataframe to an interactive table.\"\n",
              "              style=\"display:none;\">\n",
              "        \n",
              "  <svg xmlns=\"http://www.w3.org/2000/svg\" height=\"24px\"viewBox=\"0 0 24 24\"\n",
              "       width=\"24px\">\n",
              "    <path d=\"M0 0h24v24H0V0z\" fill=\"none\"/>\n",
              "    <path d=\"M18.56 5.44l.94 2.06.94-2.06 2.06-.94-2.06-.94-.94-2.06-.94 2.06-2.06.94zm-11 1L8.5 8.5l.94-2.06 2.06-.94-2.06-.94L8.5 2.5l-.94 2.06-2.06.94zm10 10l.94 2.06.94-2.06 2.06-.94-2.06-.94-.94-2.06-.94 2.06-2.06.94z\"/><path d=\"M17.41 7.96l-1.37-1.37c-.4-.4-.92-.59-1.43-.59-.52 0-1.04.2-1.43.59L10.3 9.45l-7.72 7.72c-.78.78-.78 2.05 0 2.83L4 21.41c.39.39.9.59 1.41.59.51 0 1.02-.2 1.41-.59l7.78-7.78 2.81-2.81c.8-.78.8-2.07 0-2.86zM5.41 20L4 18.59l7.72-7.72 1.47 1.35L5.41 20z\"/>\n",
              "  </svg>\n",
              "      </button>\n",
              "      \n",
              "  <style>\n",
              "    .colab-df-container {\n",
              "      display:flex;\n",
              "      flex-wrap:wrap;\n",
              "      gap: 12px;\n",
              "    }\n",
              "\n",
              "    .colab-df-convert {\n",
              "      background-color: #E8F0FE;\n",
              "      border: none;\n",
              "      border-radius: 50%;\n",
              "      cursor: pointer;\n",
              "      display: none;\n",
              "      fill: #1967D2;\n",
              "      height: 32px;\n",
              "      padding: 0 0 0 0;\n",
              "      width: 32px;\n",
              "    }\n",
              "\n",
              "    .colab-df-convert:hover {\n",
              "      background-color: #E2EBFA;\n",
              "      box-shadow: 0px 1px 2px rgba(60, 64, 67, 0.3), 0px 1px 3px 1px rgba(60, 64, 67, 0.15);\n",
              "      fill: #174EA6;\n",
              "    }\n",
              "\n",
              "    [theme=dark] .colab-df-convert {\n",
              "      background-color: #3B4455;\n",
              "      fill: #D2E3FC;\n",
              "    }\n",
              "\n",
              "    [theme=dark] .colab-df-convert:hover {\n",
              "      background-color: #434B5C;\n",
              "      box-shadow: 0px 1px 3px 1px rgba(0, 0, 0, 0.15);\n",
              "      filter: drop-shadow(0px 1px 2px rgba(0, 0, 0, 0.3));\n",
              "      fill: #FFFFFF;\n",
              "    }\n",
              "  </style>\n",
              "\n",
              "      <script>\n",
              "        const buttonEl =\n",
              "          document.querySelector('#df-1cc6bcb4-60f0-45c5-97ce-26cc9a68cc08 button.colab-df-convert');\n",
              "        buttonEl.style.display =\n",
              "          google.colab.kernel.accessAllowed ? 'block' : 'none';\n",
              "\n",
              "        async function convertToInteractive(key) {\n",
              "          const element = document.querySelector('#df-1cc6bcb4-60f0-45c5-97ce-26cc9a68cc08');\n",
              "          const dataTable =\n",
              "            await google.colab.kernel.invokeFunction('convertToInteractive',\n",
              "                                                     [key], {});\n",
              "          if (!dataTable) return;\n",
              "\n",
              "          const docLinkHtml = 'Like what you see? Visit the ' +\n",
              "            '<a target=\"_blank\" href=https://colab.research.google.com/notebooks/data_table.ipynb>data table notebook</a>'\n",
              "            + ' to learn more about interactive tables.';\n",
              "          element.innerHTML = '';\n",
              "          dataTable['output_type'] = 'display_data';\n",
              "          await google.colab.output.renderOutput(dataTable, element);\n",
              "          const docLink = document.createElement('div');\n",
              "          docLink.innerHTML = docLinkHtml;\n",
              "          element.appendChild(docLink);\n",
              "        }\n",
              "      </script>\n",
              "    </div>\n",
              "  </div>\n",
              "  "
            ]
          },
          "metadata": {},
          "execution_count": 21
        }
      ]
    },
    {
      "cell_type": "markdown",
      "source": [
        "DataFrame length reduced from 1,048,575 to 1,025,152"
      ],
      "metadata": {
        "id": "J6PxwzPGv-Cm"
      }
    },
    {
      "cell_type": "code",
      "source": [
        "for col in df.columns : \n",
        "    print('{:<20} => {:>10}'.format(col, len(df[col].unique())))"
      ],
      "metadata": {
        "colab": {
          "base_uri": "https://localhost:8080/"
        },
        "id": "sKsUEILpv_ie",
        "outputId": "beec524c-d1a4-412d-b2a1-94baf41301ef"
      },
      "execution_count": 22,
      "outputs": [
        {
          "output_type": "stream",
          "name": "stdout",
          "text": [
            "USMER                =>          2\n",
            "MEDICAL_UNIT         =>         13\n",
            "SEX                  =>          2\n",
            "PATIENT_TYPE         =>          2\n",
            "PNEUMONIA            =>          2\n",
            "AGE                  =>        121\n",
            "PREGNANT             =>          2\n",
            "DIABETES             =>          2\n",
            "COPD                 =>          2\n",
            "ASTHMA               =>          2\n",
            "INMSUPR              =>          2\n",
            "HIPERTENSION         =>          2\n",
            "OTHER_DISEASE        =>          2\n",
            "CARDIOVASCULAR       =>          2\n",
            "OBESITY              =>          2\n",
            "RENAL_CHRONIC        =>          2\n",
            "TOBACCO              =>          2\n",
            "CLASIFFICATION_FINAL =>          7\n",
            "DEATH                =>          2\n"
          ]
        }
      ]
    },
    {
      "cell_type": "code",
      "source": [
        "df.info()"
      ],
      "metadata": {
        "colab": {
          "base_uri": "https://localhost:8080/"
        },
        "id": "pLNbF1cOm66l",
        "outputId": "fd5f7cbe-fc66-4f88-b746-82f41433e15a"
      },
      "execution_count": 23,
      "outputs": [
        {
          "output_type": "stream",
          "name": "stdout",
          "text": [
            "<class 'pandas.core.frame.DataFrame'>\n",
            "Int64Index: 1025152 entries, 0 to 1048574\n",
            "Data columns (total 19 columns):\n",
            " #   Column                Non-Null Count    Dtype\n",
            "---  ------                --------------    -----\n",
            " 0   USMER                 1025152 non-null  int64\n",
            " 1   MEDICAL_UNIT          1025152 non-null  int64\n",
            " 2   SEX                   1025152 non-null  int64\n",
            " 3   PATIENT_TYPE          1025152 non-null  int64\n",
            " 4   PNEUMONIA             1025152 non-null  int64\n",
            " 5   AGE                   1025152 non-null  int64\n",
            " 6   PREGNANT              1025152 non-null  int64\n",
            " 7   DIABETES              1025152 non-null  int64\n",
            " 8   COPD                  1025152 non-null  int64\n",
            " 9   ASTHMA                1025152 non-null  int64\n",
            " 10  INMSUPR               1025152 non-null  int64\n",
            " 11  HIPERTENSION          1025152 non-null  int64\n",
            " 12  OTHER_DISEASE         1025152 non-null  int64\n",
            " 13  CARDIOVASCULAR        1025152 non-null  int64\n",
            " 14  OBESITY               1025152 non-null  int64\n",
            " 15  RENAL_CHRONIC         1025152 non-null  int64\n",
            " 16  TOBACCO               1025152 non-null  int64\n",
            " 17  CLASIFFICATION_FINAL  1025152 non-null  int64\n",
            " 18  DEATH                 1025152 non-null  int64\n",
            "dtypes: int64(19)\n",
            "memory usage: 156.4 MB\n"
          ]
        }
      ]
    },
    {
      "cell_type": "code",
      "source": [
        "plt.title('Age Distribution', fontsize=18)\n",
        "sns.histplot(data=df, x=df['AGE'],bins=30, kde=True)"
      ],
      "metadata": {
        "colab": {
          "base_uri": "https://localhost:8080/",
          "height": 316
        },
        "id": "NAcs53I_1GMa",
        "outputId": "f24d701b-ede2-42b5-cee3-7a279b5f4c83"
      },
      "execution_count": 24,
      "outputs": [
        {
          "output_type": "execute_result",
          "data": {
            "text/plain": [
              "<matplotlib.axes._subplots.AxesSubplot at 0x7f6da3449c70>"
            ]
          },
          "metadata": {},
          "execution_count": 24
        },
        {
          "output_type": "display_data",
          "data": {
            "text/plain": [
              "<Figure size 432x288 with 1 Axes>"
            ],
            "image/png": "[encoded data removed]"
          },
          "metadata": {
            "needs_background": "light"
          }
        }
      ]
    },
    {
      "cell_type": "code",
      "source": [
        "sns.boxplot(x=\"DEATH\", y=\"AGE\",hue=\"SEX\",data=df,palette=sns.color_palette([\"#2f4f4f\",\"#eedd82\"]))\n",
        "plt.title(\"Age-Death-Sex\",fontsize=18)\n",
        "plt.legend(loc=\"best\")"
      ],
      "metadata": {
        "colab": {
          "base_uri": "https://localhost:8080/",
          "height": 316
        },
        "id": "Sbl4PoNB4kLZ",
        "outputId": "944aa31d-f1e9-4739-b5c6-d81cb588c3af"
      },
      "execution_count": 25,
      "outputs": [
        {
          "output_type": "execute_result",
          "data": {
            "text/plain": [
              "<matplotlib.legend.Legend at 0x7f6d8e86dd00>"
            ]
          },
          "metadata": {},
          "execution_count": 25
        },
        {
          "output_type": "display_data",
          "data": {
            "text/plain": [
              "<Figure size 432x288 with 1 Axes>"
            ],
            "image/png": "[encoded data removed]"
          },
          "metadata": {
            "needs_background": "light"
          }
        }
      ]
    },
    {
      "cell_type": "code",
      "source": [
        "plt.figure(figsize=(18,15))\n",
        "sns.heatmap(df.corr(), annot=True, fmt='.3f')\n",
        "plt.title('Correlation Between Features', fontsize=18)"
      ],
      "metadata": {
        "id": "YPlpPkXy6ADM",
        "outputId": "7c16d1a6-fe79-4501-c1de-8735fb55af3d",
        "colab": {
          "base_uri": "https://localhost:8080/",
          "height": 1000
        }
      },
      "execution_count": 26,
      "outputs": [
        {
          "output_type": "execute_result",
          "data": {
            "text/plain": [
              "Text(0.5, 1.0, 'Correlation Between Features')"
            ]
          },
          "metadata": {},
          "execution_count": 26
        },
        {
          "output_type": "display_data",
          "data": {
            "text/plain": [
              "<Figure size 1296x1080 with 2 Axes>"
            ],
            "image/png": "[encoded data removed]"
          },
          "metadata": {
            "needs_background": "light"
          }
        }
      ]
    },
    {
      "cell_type": "markdown",
      "source": [
        "Drop values that doesn't have a positive correlataion with DEATH column"
      ],
      "metadata": {
        "id": "fa5fJou_6_RF"
      }
    },
    {
      "cell_type": "markdown",
      "source": [
        "Scale Numeric feature(i.e. Age)"
      ],
      "metadata": {
        "id": "6uqL2fkt7DID"
      }
    },
    {
      "cell_type": "code",
      "source": [
        "from sklearn.preprocessing import StandardScaler\n",
        "standard_scaler = StandardScaler()\n",
        "df['AGE'] = standard_scaler.fit_transform(df.loc[:,['AGE']])"
      ],
      "metadata": {
        "id": "GYsOcyzE7F7j"
      },
      "execution_count": 27,
      "outputs": []
    },
    {
      "cell_type": "markdown",
      "source": [
        "Determine X,Y data"
      ],
      "metadata": {
        "id": "VyPhcsDJ7LVj"
      }
    },
    {
      "cell_type": "code",
      "source": [
        "y = df['DEATH']\n",
        "x = df.drop('DEATH', axis=1)"
      ],
      "metadata": {
        "id": "ZHTplL727Nrb"
      },
      "execution_count": 28,
      "outputs": []
    },
    {
      "cell_type": "code",
      "source": [
        "train_x, test_x, train_y, test_y = train_test_split(x,y, test_size=0.2, random_state=1) #80% for training and 20% \n",
        "#for testing\n",
        "\n",
        "print('Train X :', train_x.shape)\n",
        "print('Test X :', test_x.shape)\n",
        "print('Train Y :', train_y.shape)\n",
        "print('Test Y :', test_y .shape)"
      ],
      "metadata": {
        "id": "V_O4JeEu7S9d",
        "outputId": "190c364b-1e13-4f34-c791-60aa91071117",
        "colab": {
          "base_uri": "https://localhost:8080/"
        }
      },
      "execution_count": 29,
      "outputs": [
        {
          "output_type": "stream",
          "name": "stdout",
          "text": [
            "Train X : (820121, 18)\n",
            "Test X : (205031, 18)\n",
            "Train Y : (820121,)\n",
            "Test Y : (205031,)\n"
          ]
        }
      ]
    },
    {
      "cell_type": "markdown",
      "source": [
        "Logistic Regression Accuracy"
      ],
      "metadata": {
        "id": "lbt5DSVUKZv4"
      }
    },
    {
      "cell_type": "code",
      "source": [
        "LG=LogisticRegression()\n",
        "LG.fit(train_x,train_y)\n",
        "print(\"Logistic Regression Accuracy :\", LG.score(test_x, test_y))"
      ],
      "metadata": {
        "colab": {
          "base_uri": "https://localhost:8080/"
        },
        "id": "WOr1jyCq9obk",
        "outputId": "84358a1b-7cad-460c-b5b3-3ab1f2f45200"
      },
      "execution_count": 30,
      "outputs": [
        {
          "output_type": "stream",
          "name": "stdout",
          "text": [
            "Logistic Regression Accuracy : 0.937984987636016\n"
          ]
        },
        {
          "output_type": "stream",
          "name": "stderr",
          "text": [
            "/usr/local/lib/python3.8/dist-packages/sklearn/linear_model/_logistic.py:814: ConvergenceWarning: lbfgs failed to converge (status=1):\n",
            "STOP: TOTAL NO. of ITERATIONS REACHED LIMIT.\n",
            "\n",
            "Increase the number of iterations (max_iter) or scale the data as shown in:\n",
            "    https://scikit-learn.org/stable/modules/preprocessing.html\n",
            "Please also refer to the documentation for alternative solver options:\n",
            "    https://scikit-learn.org/stable/modules/linear_model.html#logistic-regression\n",
            "  n_iter_i = _check_optimize_result(\n"
          ]
        }
      ]
    },
    {
      "cell_type": "markdown",
      "source": [
        "F1 score - F1 Score is the weighted average of Precision and Recall."
      ],
      "metadata": {
        "id": "E8GlBHqK_6U9"
      }
    },
    {
      "cell_type": "code",
      "source": [
        "print(\"Logistic Regression F1 Score : \", f1_score(test_y, LG.predict(test_x),average=None))"
      ],
      "metadata": {
        "colab": {
          "base_uri": "https://localhost:8080/"
        },
        "id": "RADFomt1AVl1",
        "outputId": "62f25003-85d3-4d12-9181-c7a06bfb2ecb"
      },
      "execution_count": 31,
      "outputs": [
        {
          "output_type": "stream",
          "name": "stdout",
          "text": [
            "Logistic Regression F1 Score :  [0.51064157 0.96689483]\n"
          ]
        }
      ]
    },
    {
      "cell_type": "markdown",
      "source": [
        "Logistic Regression Heat Map"
      ],
      "metadata": {
        "id": "QH9PfATnKI3Z"
      }
    },
    {
      "cell_type": "code",
      "source": [
        "sns.heatmap(confusion_matrix(test_y, LG.predict(test_x)), annot=True, fmt='.0f')\n",
        "plt.title(\"Logistic Regression Confusion Matrix\", fontsize=18)"
      ],
      "metadata": {
        "colab": {
          "base_uri": "https://localhost:8080/",
          "height": 302
        },
        "id": "KxOBpM_YB-Of",
        "outputId": "2dd4709a-8393-4dba-a77a-5e76b774b603"
      },
      "execution_count": 32,
      "outputs": [
        {
          "output_type": "execute_result",
          "data": {
            "text/plain": [
              "Text(0.5, 1.0, 'Logistic Regression Confusion Matrix')"
            ]
          },
          "metadata": {},
          "execution_count": 32
        },
        {
          "output_type": "display_data",
          "data": {
            "text/plain": [
              "<Figure size 432x288 with 2 Axes>"
            ],
            "image/png": "[encoded data removed]"
          },
          "metadata": {
            "needs_background": "light"
          }
        }
      ]
    },
    {
      "cell_type": "markdown",
      "source": [
        "Test on other models"
      ],
      "metadata": {
        "id": "NWrLR44fDvbH"
      }
    },
    {
      "cell_type": "markdown",
      "source": [
        "Decision Tree"
      ],
      "metadata": {
        "id": "nULn9UjPD_4O"
      }
    },
    {
      "cell_type": "code",
      "source": [
        "train_x, test_x, train_y, test_y = train_test_split(x,y, test_size=0.2, random_state=1) # 80% training and 20% test\n",
        "\n",
        "print('Train X :', train_x.shape)\n",
        "print('Test X :', test_x.shape)\n",
        "print('Train Y :', train_y.shape)\n",
        "print('Test Y :', test_y .shape)"
      ],
      "metadata": {
        "colab": {
          "base_uri": "https://localhost:8080/"
        },
        "id": "yM680ciUIcrY",
        "outputId": "1e646978-9ea2-4270-9172-c034f3ab1b0e"
      },
      "execution_count": 33,
      "outputs": [
        {
          "output_type": "stream",
          "name": "stdout",
          "text": [
            "Train X : (820121, 18)\n",
            "Test X : (205031, 18)\n",
            "Train Y : (820121,)\n",
            "Test Y : (205031,)\n"
          ]
        }
      ]
    },
    {
      "cell_type": "code",
      "source": [
        "clf = DecisionTreeClassifier()\n",
        "clf = clf.fit(train_x,train_y)\n",
        "print(\"Decision tree Accuracy :\", clf.score(test_x, test_y))"
      ],
      "metadata": {
        "id": "PJhOurc9JGzp",
        "colab": {
          "base_uri": "https://localhost:8080/"
        },
        "outputId": "91bc6ae0-2ba1-4457-c5b0-05f5e75870f2"
      },
      "execution_count": 34,
      "outputs": [
        {
          "output_type": "stream",
          "name": "stdout",
          "text": [
            "Decision tree Accuracy : 0.9286107954406895\n"
          ]
        }
      ]
    },
    {
      "cell_type": "markdown",
      "source": [
        "Decision Tree F1 Score"
      ],
      "metadata": {
        "id": "okUHAoxW1GxP"
      }
    },
    {
      "cell_type": "code",
      "source": [
        "print(\"Decision Tree F1 Score : \", f1_score(test_y, clf.predict(test_x),average=None))"
      ],
      "metadata": {
        "colab": {
          "base_uri": "https://localhost:8080/"
        },
        "id": "qsfQ29aVJ8zQ",
        "outputId": "67e559d0-66c3-40de-eb8e-6d80bd97c84b"
      },
      "execution_count": 35,
      "outputs": [
        {
          "output_type": "stream",
          "name": "stdout",
          "text": [
            "Decision Tree F1 Score :  [0.51859891 0.96144678]\n"
          ]
        }
      ]
    },
    {
      "cell_type": "markdown",
      "source": [
        "Decision Tree Heat Map"
      ],
      "metadata": {
        "id": "5IgUmMI51CRI"
      }
    },
    {
      "cell_type": "code",
      "source": [
        "sns.heatmap(confusion_matrix(test_y,clf.predict(test_x)), annot=True, fmt='.0f')\n",
        "plt.title(\"Decision Tree Classifier\", fontsize=18)"
      ],
      "metadata": {
        "colab": {
          "base_uri": "https://localhost:8080/",
          "height": 302
        },
        "id": "lnRryWm-Kwyo",
        "outputId": "7b9fcc28-f6dc-47f9-c02d-11ff7893404f"
      },
      "execution_count": 36,
      "outputs": [
        {
          "output_type": "execute_result",
          "data": {
            "text/plain": [
              "Text(0.5, 1.0, 'Decision Tree Classifier')"
            ]
          },
          "metadata": {},
          "execution_count": 36
        },
        {
          "output_type": "display_data",
          "data": {
            "text/plain": [
              "<Figure size 432x288 with 2 Axes>"
            ],
            "image/png": "[encoded data removed]"
          },
          "metadata": {
            "needs_background": "light"
          }
        }
      ]
    },
    {
      "cell_type": "markdown",
      "source": [
        "Naive Bayes"
      ],
      "metadata": {
        "id": "Kq4U9RgeEDxd"
      }
    },
    {
      "cell_type": "markdown",
      "source": [
        "In Gaussian Naive Bayes, continuous values associated with each feature are assumed to be distributed according to a Gaussian distribution. A Gaussian distribution is also called Normal distribution. When plotted, it gives a bell shaped curve which is symmetric about the mean of the feature"
      ],
      "metadata": {
        "id": "PJvTFfM42Sz-"
      }
    },
    {
      "cell_type": "code",
      "source": [
        "train_x, test_x, train_y, test_y = train_test_split(x,y, test_size=0.2, random_state=1) # 80% training and 20% test\n",
        "\n",
        "print('Train X :', train_x.shape)\n",
        "print('Test X :', test_x.shape)\n",
        "print('Train Y :', train_y.shape)\n",
        "print('Test Y :', test_y .shape)"
      ],
      "metadata": {
        "colab": {
          "base_uri": "https://localhost:8080/"
        },
        "id": "bRF5kBy0NdVT",
        "outputId": "40bc17c4-e942-491c-c3b2-aac56444835c"
      },
      "execution_count": 37,
      "outputs": [
        {
          "output_type": "stream",
          "name": "stdout",
          "text": [
            "Train X : (820121, 18)\n",
            "Test X : (205031, 18)\n",
            "Train Y : (820121,)\n",
            "Test Y : (205031,)\n"
          ]
        }
      ]
    },
    {
      "cell_type": "code",
      "source": [
        "gnb = GaussianNB()\n",
        "gnb.fit(train_x, train_y)\n",
        "print(\"Gausiian Naive Bayes Accuracy :\", gnb.score(test_x, test_y))"
      ],
      "metadata": {
        "colab": {
          "base_uri": "https://localhost:8080/"
        },
        "id": "T-hze0aTmMUW",
        "outputId": "ad69bc77-7c10-4459-f8d7-2d023c2e749d"
      },
      "execution_count": 38,
      "outputs": [
        {
          "output_type": "stream",
          "name": "stdout",
          "text": [
            "Gausiian Naive Bayes Accuracy : 0.8797547687910608\n"
          ]
        }
      ]
    },
    {
      "cell_type": "markdown",
      "source": [
        "Gausiian Naive Bayes F1 Score"
      ],
      "metadata": {
        "id": "ohDntyH41NXY"
      }
    },
    {
      "cell_type": "code",
      "source": [
        "print(\"Gausiian Naive Bayes F1 Score : \", f1_score(test_y, gnb.predict(test_x),average=None))"
      ],
      "metadata": {
        "colab": {
          "base_uri": "https://localhost:8080/"
        },
        "id": "UeHOkVOWzwFi",
        "outputId": "f34999ab-041a-4943-8c02-574e5d530e36"
      },
      "execution_count": 39,
      "outputs": [
        {
          "output_type": "stream",
          "name": "stdout",
          "text": [
            "Gausiian Naive Bayes F1 Score :  [0.49882095 0.93168177]\n"
          ]
        }
      ]
    },
    {
      "cell_type": "markdown",
      "source": [
        "Gausiian Naive Bayes Heat Map"
      ],
      "metadata": {
        "id": "ttDfaJVd1YUF"
      }
    },
    {
      "cell_type": "code",
      "source": [
        "sns.heatmap(confusion_matrix(test_y,gnb.predict(test_x)), annot=True, fmt='.0f')\n",
        "plt.title(\"Gaussian Naive Bayes\", fontsize=18)"
      ],
      "metadata": {
        "colab": {
          "base_uri": "https://localhost:8080/",
          "height": 302
        },
        "id": "fDPWFdI01XO1",
        "outputId": "e3109fa0-24b5-449a-f796-a544152d7ece"
      },
      "execution_count": 40,
      "outputs": [
        {
          "output_type": "execute_result",
          "data": {
            "text/plain": [
              "Text(0.5, 1.0, 'Gaussian Naive Bayes')"
            ]
          },
          "metadata": {},
          "execution_count": 40
        },
        {
          "output_type": "display_data",
          "data": {
            "text/plain": [
              "<Figure size 432x288 with 2 Axes>"
            ],
            "image/png": "[encoded data removed]"
          },
          "metadata": {
            "needs_background": "light"
          }
        }
      ]
    },
    {
      "cell_type": "markdown",
      "source": [
        "Bernoulli Naive Bayes: In the multivariate Bernoulli event model, features are independent booleans (binary variables) describing inputs. Like the multinomial model, this model is popular for document classification tasks, where binary term occurrence(i.e. a word occurs in a document or not) features are used rather than term frequencies(i.e. frequency of a word in the document)."
      ],
      "metadata": {
        "id": "RXcIaTwS3k3V"
      }
    },
    {
      "cell_type": "code",
      "source": [
        "train_x, test_x, train_y, test_y = train_test_split(x,y, test_size=0.2, random_state=1) # 80% training and 20% test\n",
        "\n",
        "print('Train X :', train_x.shape)\n",
        "print('Test X :', test_x.shape)\n",
        "print('Train Y :', train_y.shape)\n",
        "print('Test Y :', test_y .shape)"
      ],
      "metadata": {
        "colab": {
          "base_uri": "https://localhost:8080/"
        },
        "id": "puIgYYJN50ED",
        "outputId": "07863d2b-dee4-4881-87c1-3edcc5572776"
      },
      "execution_count": 41,
      "outputs": [
        {
          "output_type": "stream",
          "name": "stdout",
          "text": [
            "Train X : (820121, 18)\n",
            "Test X : (205031, 18)\n",
            "Train Y : (820121,)\n",
            "Test Y : (205031,)\n"
          ]
        }
      ]
    },
    {
      "cell_type": "code",
      "source": [
        "Bnb = BernoulliNB()\n",
        "Bnb.fit(train_x, train_y)\n",
        "print(\"Bernoulli Naive Bayes Accuracy :\", Bnb.score(test_x, test_y))"
      ],
      "metadata": {
        "colab": {
          "base_uri": "https://localhost:8080/"
        },
        "id": "sGBJnbzQ54X6",
        "outputId": "009a0026-ae23-4935-d34f-5ed6d8f81842"
      },
      "execution_count": 42,
      "outputs": [
        {
          "output_type": "stream",
          "name": "stdout",
          "text": [
            "Bernoulli Naive Bayes Accuracy : 0.9263428457160137\n"
          ]
        }
      ]
    },
    {
      "cell_type": "markdown",
      "source": [
        "Bernoulli Naive Bayes F1 Score"
      ],
      "metadata": {
        "id": "yppClxDR74NR"
      }
    },
    {
      "cell_type": "code",
      "source": [
        "print(\"Bernoulli Naive Bayes F1 Score : \", f1_score(test_y, Bnb.predict(test_x),average=None))"
      ],
      "metadata": {
        "colab": {
          "base_uri": "https://localhost:8080/"
        },
        "id": "MovZGkDW7V6R",
        "outputId": "bc3a9561-649d-4f4a-852d-7273c6d405f6"
      },
      "execution_count": 43,
      "outputs": [
        {
          "output_type": "stream",
          "name": "stdout",
          "text": [
            "Bernoulli Naive Bayes F1 Score :  [0.         0.96176322]\n"
          ]
        }
      ]
    },
    {
      "cell_type": "markdown",
      "source": [
        "Bernoulli Naive Bayes Heat Map"
      ],
      "metadata": {
        "id": "NGJC9wn48DHR"
      }
    },
    {
      "cell_type": "code",
      "source": [
        "sns.heatmap(confusion_matrix(test_y,Bnb.predict(test_x)), annot=True, fmt='.0f')\n",
        "plt.title(\"Bernoulli Bayes\", fontsize=18)"
      ],
      "metadata": {
        "colab": {
          "base_uri": "https://localhost:8080/",
          "height": 302
        },
        "id": "pyPhpcfP7whZ",
        "outputId": "39fabf8c-3885-4324-8de4-1d99f1c0979e"
      },
      "execution_count": 46,
      "outputs": [
        {
          "output_type": "execute_result",
          "data": {
            "text/plain": [
              "Text(0.5, 1.0, 'Bernoulli Bayes')"
            ]
          },
          "metadata": {},
          "execution_count": 46
        },
        {
          "output_type": "display_data",
          "data": {
            "text/plain": [
              "<Figure size 432x288 with 2 Axes>"
            ],
            "image/png": "[encoded data removed]"
          },
          "metadata": {
            "needs_background": "light"
          }
        }
      ]
    },
    {
      "cell_type": "markdown",
      "source": [
        "Logistic Regression Model seems to have better sensitivity"
      ],
      "metadata": {
        "id": "5GgTid63DhvT"
      }
    },
    {
      "cell_type": "markdown",
      "source": [
        "**Conclusion**\n"
      ],
      "metadata": {
        "id": "Rsy1v3F0EBMT"
      }
    },
    {
      "cell_type": "markdown",
      "source": [
        "* predict patients who are at high risk of death from covid.\n",
        "* uses undersampling method to solve imbalance dataset problem.\n",
        "* tested Logistic Regression,Decision Tree,Gaussian Naive Bayes and Bernouli Naive Bayes algorithm.\n",
        "* logistic regression seemed to have better sensitivity than Decision Tree,Gaussian Naive Bayes and Bernouli Naive Bayes algorithm."
      ],
      "metadata": {
        "id": "SL6jGQdbEJfk"
      }
    }
  ]
}